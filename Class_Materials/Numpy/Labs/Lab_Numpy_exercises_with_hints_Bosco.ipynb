{
 "cells": [
  {
   "cell_type": "markdown",
   "id": "4169eb53",
   "metadata": {},
   "source": [
    "#### 1. Import the numpy package under the name `np`"
   ]
  },
  {
   "cell_type": "code",
   "execution_count": 69,
   "id": "7730089a",
   "metadata": {},
   "outputs": [],
   "source": [
    "import numpy as np"
   ]
  },
  {
   "cell_type": "markdown",
   "id": "60fa3a23",
   "metadata": {},
   "source": [
    "#### 2. Create a null vector of size 10 (★☆☆)"
   ]
  },
  {
   "cell_type": "code",
   "execution_count": 70,
   "id": "6ebf5dab",
   "metadata": {},
   "outputs": [
    {
     "data": {
      "text/plain": [
       "array([0., 0., 0., 0., 0., 0., 0., 0., 0., 0.])"
      ]
     },
     "execution_count": 70,
     "metadata": {},
     "output_type": "execute_result"
    }
   ],
   "source": [
    "a = np.zeros(10)\n",
    "a"
   ]
  },
  {
   "cell_type": "markdown",
   "id": "24f060fc",
   "metadata": {},
   "source": [
    "#### 3. Create a null vector of size 10 but the fifth value which is 1 (★☆☆)"
   ]
  },
  {
   "cell_type": "code",
   "execution_count": 71,
   "id": "f8bc85bb",
   "metadata": {},
   "outputs": [
    {
     "data": {
      "text/plain": [
       "array([0., 0., 0., 0., 1., 0., 0., 0., 0., 0.])"
      ]
     },
     "execution_count": 71,
     "metadata": {},
     "output_type": "execute_result"
    }
   ],
   "source": [
    "a[4] = 1\n",
    "a"
   ]
  },
  {
   "cell_type": "markdown",
   "id": "33b84765",
   "metadata": {},
   "source": [
    "#### 4. Create a vector with values ranging from 10 to 49 (★☆☆)"
   ]
  },
  {
   "cell_type": "code",
   "execution_count": 143,
   "id": "31d17476",
   "metadata": {},
   "outputs": [
    {
     "data": {
      "text/plain": [
       "array([ 0,  1,  2,  3,  4,  5,  6,  7,  8,  9, 10, 11, 12, 13, 14, 15, 16,\n",
       "       17, 18, 19, 20, 21, 22, 23, 24, 25, 26, 27, 28, 29, 30, 31, 32, 33,\n",
       "       34, 35, 36, 37, 38, 39, 40, 41, 42, 43, 44, 45, 46, 47, 48, 49])"
      ]
     },
     "execution_count": 143,
     "metadata": {},
     "output_type": "execute_result"
    }
   ],
   "source": [
    "b = np.arange(50)\n",
    "b"
   ]
  },
  {
   "cell_type": "markdown",
   "id": "df21b9de",
   "metadata": {},
   "source": [
    "#### 5. Create a 3x3 matrix with values ranging from 0 to 8 (★☆☆)"
   ]
  },
  {
   "cell_type": "code",
   "execution_count": 73,
   "id": "36a11567",
   "metadata": {},
   "outputs": [
    {
     "data": {
      "text/plain": [
       "array([[0, 1, 2],\n",
       "       [3, 4, 5],\n",
       "       [6, 7, 8]])"
      ]
     },
     "execution_count": 73,
     "metadata": {},
     "output_type": "execute_result"
    }
   ],
   "source": [
    "c = np.arange(9).reshape(3,3)\n",
    "c"
   ]
  },
  {
   "cell_type": "markdown",
   "id": "587fb07b",
   "metadata": {},
   "source": [
    "#### 6. Find indices of non-zero elements from [1,2,0,0,4,0] (★☆☆)"
   ]
  },
  {
   "cell_type": "code",
   "execution_count": 74,
   "id": "76cb597a",
   "metadata": {},
   "outputs": [
    {
     "data": {
      "text/plain": [
       "(array([0, 1, 4], dtype=int64),)"
      ]
     },
     "execution_count": 74,
     "metadata": {},
     "output_type": "execute_result"
    }
   ],
   "source": [
    "np.nonzero([1,2,0,0,4,0])"
   ]
  },
  {
   "cell_type": "markdown",
   "id": "4fc58e37",
   "metadata": {},
   "source": [
    "#### 7. Create a 3x3 identity matrix (★☆☆)"
   ]
  },
  {
   "cell_type": "code",
   "execution_count": 75,
   "id": "758d1d95",
   "metadata": {},
   "outputs": [
    {
     "data": {
      "text/plain": [
       "array([[1., 0., 0.],\n",
       "       [0., 1., 0.],\n",
       "       [0., 0., 1.]])"
      ]
     },
     "execution_count": 75,
     "metadata": {},
     "output_type": "execute_result"
    }
   ],
   "source": [
    "matrix1 = np.eye(3)\n",
    "matrix1"
   ]
  },
  {
   "cell_type": "markdown",
   "id": "d27c15ce",
   "metadata": {},
   "source": [
    "#### 8. Create a 3x3x3 array with random values (★☆☆)"
   ]
  },
  {
   "cell_type": "code",
   "execution_count": 76,
   "id": "fda4c9a1",
   "metadata": {},
   "outputs": [
    {
     "data": {
      "text/plain": [
       "array([[[0.69646919, 0.28613933, 0.22685145],\n",
       "        [0.55131477, 0.71946897, 0.42310646],\n",
       "        [0.9807642 , 0.68482974, 0.4809319 ]],\n",
       "\n",
       "       [[0.39211752, 0.34317802, 0.72904971],\n",
       "        [0.43857224, 0.0596779 , 0.39804426],\n",
       "        [0.73799541, 0.18249173, 0.17545176]],\n",
       "\n",
       "       [[0.53155137, 0.53182759, 0.63440096],\n",
       "        [0.84943179, 0.72445532, 0.61102351],\n",
       "        [0.72244338, 0.32295891, 0.36178866]]])"
      ]
     },
     "execution_count": 76,
     "metadata": {},
     "output_type": "execute_result"
    }
   ],
   "source": [
    "np.random.seed(123)\n",
    "d = np.random.random((3,3,3))\n",
    "d"
   ]
  },
  {
   "cell_type": "markdown",
   "id": "41e9cff3",
   "metadata": {},
   "source": [
    "#### 9. Create a 10x10 array with random values and find the minimum and maximum values (★☆☆)"
   ]
  },
  {
   "cell_type": "code",
   "execution_count": 77,
   "id": "c52ed978",
   "metadata": {},
   "outputs": [
    {
     "data": {
      "text/plain": [
       "array([[0.22826323, 0.29371405, 0.63097612, 0.09210494, 0.43370117,\n",
       "        0.43086276, 0.4936851 , 0.42583029, 0.31226122, 0.42635131],\n",
       "       [0.89338916, 0.94416002, 0.50183668, 0.62395295, 0.1156184 ,\n",
       "        0.31728548, 0.41482621, 0.86630916, 0.25045537, 0.48303426],\n",
       "       [0.98555979, 0.51948512, 0.61289453, 0.12062867, 0.8263408 ,\n",
       "        0.60306013, 0.54506801, 0.34276383, 0.30412079, 0.41702221],\n",
       "       [0.68130077, 0.87545684, 0.51042234, 0.66931378, 0.58593655,\n",
       "        0.6249035 , 0.67468905, 0.84234244, 0.08319499, 0.76368284],\n",
       "       [0.24366637, 0.19422296, 0.57245696, 0.09571252, 0.88532683,\n",
       "        0.62724897, 0.72341636, 0.01612921, 0.59443188, 0.55678519],\n",
       "       [0.15895964, 0.15307052, 0.69552953, 0.31876643, 0.6919703 ,\n",
       "        0.55438325, 0.38895057, 0.92513249, 0.84167   , 0.35739757],\n",
       "       [0.04359146, 0.30476807, 0.39818568, 0.70495883, 0.99535848,\n",
       "        0.35591487, 0.76254781, 0.59317692, 0.6917018 , 0.15112745],\n",
       "       [0.39887629, 0.2408559 , 0.34345601, 0.51312815, 0.66662455,\n",
       "        0.10590849, 0.13089495, 0.32198061, 0.66156434, 0.84650623],\n",
       "       [0.55325734, 0.85445249, 0.38483781, 0.3167879 , 0.35426468,\n",
       "        0.17108183, 0.82911263, 0.33867085, 0.55237008, 0.57855147],\n",
       "       [0.52153306, 0.00268806, 0.98834542, 0.90534158, 0.20763586,\n",
       "        0.29248941, 0.52001015, 0.90191137, 0.98363088, 0.25754206]])"
      ]
     },
     "execution_count": 77,
     "metadata": {},
     "output_type": "execute_result"
    }
   ],
   "source": [
    "e = np.random.random((10,10))\n",
    "e"
   ]
  },
  {
   "cell_type": "markdown",
   "id": "8f987fa1",
   "metadata": {},
   "source": [
    "#### 10. Create a random vector of size 30 and find the mean value (★☆☆)"
   ]
  },
  {
   "cell_type": "code",
   "execution_count": 78,
   "id": "5f183c99",
   "metadata": {},
   "outputs": [
    {
     "data": {
      "text/plain": [
       "0.5078714702038956"
      ]
     },
     "execution_count": 78,
     "metadata": {},
     "output_type": "execute_result"
    }
   ],
   "source": [
    "f = np.random.random(30)\n",
    "np.mean(f)"
   ]
  },
  {
   "cell_type": "markdown",
   "id": "3a3f66bd",
   "metadata": {},
   "source": [
    "#### 11. Create a 5x5 matrix with values 1,2,3,4 just below the diagonal (★☆☆)"
   ]
  },
  {
   "cell_type": "code",
   "execution_count": 129,
   "id": "09a635c6",
   "metadata": {},
   "outputs": [
    {
     "data": {
      "text/plain": [
       "array([[1, 0, 0, 0, 0],\n",
       "       [0, 2, 0, 0, 0],\n",
       "       [0, 0, 3, 0, 0],\n",
       "       [0, 0, 0, 4, 0],\n",
       "       [0, 0, 0, 0, 5]])"
      ]
     },
     "execution_count": 129,
     "metadata": {},
     "output_type": "execute_result"
    }
   ],
   "source": [
    "matrix2 = np.diag([1,2,3,4,5])\n",
    "matrix2"
   ]
  },
  {
   "cell_type": "markdown",
   "id": "40f41af3",
   "metadata": {},
   "source": [
    "#### 12. Normalize a 5x5 random matrix (★☆☆)"
   ]
  },
  {
   "cell_type": "code",
   "execution_count": 130,
   "id": "77f0c251",
   "metadata": {},
   "outputs": [
    {
     "data": {
      "text/plain": [
       "array([[-1.76149597, -0.13048245,  0.52389394, -0.24426287,  1.40592455],\n",
       "       [ 0.08149706,  0.95921459, -1.27748021, -1.28585109,  2.08349461],\n",
       "       [-0.15753858,  0.6656784 ,  5.35238903, -0.4460826 , -0.17159062],\n",
       "       [-0.24636426, -0.87011764, -0.43803833,  4.93414474, -0.72184016],\n",
       "       [-0.52517312,  0.02579628,  0.03990562,  0.16601962,  5.17196366]])"
      ]
     },
     "execution_count": 130,
     "metadata": {},
     "output_type": "execute_result"
    }
   ],
   "source": [
    "np.random.normal(matrix2)"
   ]
  },
  {
   "cell_type": "markdown",
   "id": "2dc55980",
   "metadata": {},
   "source": [
    "#### 13. How to find common values between two arrays? (★☆☆)"
   ]
  },
  {
   "cell_type": "code",
   "execution_count": 131,
   "id": "f85f8937",
   "metadata": {},
   "outputs": [
    {
     "data": {
      "text/plain": [
       "array([0., 1.])"
      ]
     },
     "execution_count": 131,
     "metadata": {},
     "output_type": "execute_result"
    }
   ],
   "source": [
    "np.intersect1d(matrix1, matrix2)"
   ]
  },
  {
   "cell_type": "markdown",
   "id": "abe832f8",
   "metadata": {},
   "source": [
    "#### 14. Create a random vector of size 10 and sort it (★★☆)"
   ]
  },
  {
   "cell_type": "code",
   "execution_count": 140,
   "id": "611014aa",
   "metadata": {},
   "outputs": [
    {
     "data": {
      "text/plain": [
       "array([0.2845492 , 0.31843478, 0.43296933, 0.44187927, 0.49197605,\n",
       "       0.64816312, 0.85244954, 0.85842765, 0.88400303, 0.96588631])"
      ]
     },
     "execution_count": 140,
     "metadata": {},
     "output_type": "execute_result"
    }
   ],
   "source": [
    "np.sort(np.random.random(10))"
   ]
  },
  {
   "cell_type": "markdown",
   "id": "0e5beedb",
   "metadata": {},
   "source": [
    "#### 15. Create random vector of size 10 and replace the maximum value by 0 (★★☆)"
   ]
  },
  {
   "cell_type": "code",
   "execution_count": 162,
   "id": "6bcfef93",
   "metadata": {},
   "outputs": [
    {
     "data": {
      "text/plain": [
       "array([0.69646919, 0.28613933, 0.22685145, 0.55131477, 0.71946897,\n",
       "       0.42310646, 0.9807642 , 0.68482974, 0.4809319 , 0.39211752])"
      ]
     },
     "execution_count": 162,
     "metadata": {},
     "output_type": "execute_result"
    }
   ],
   "source": [
    "np.random.seed(123)\n",
    "f = np.random.random(10)\n",
    "f"
   ]
  },
  {
   "cell_type": "code",
   "execution_count": 165,
   "id": "f85b13c1",
   "metadata": {},
   "outputs": [
    {
     "data": {
      "text/plain": [
       "array([0.69646919, 0.28613933, 0.22685145, 0.55131477, 0.        ,\n",
       "       0.42310646, 0.        , 0.68482974, 0.4809319 , 0.39211752])"
      ]
     },
     "execution_count": 165,
     "metadata": {},
     "output_type": "execute_result"
    }
   ],
   "source": [
    "f[np.argmax(f)] = 0\n",
    "f"
   ]
  },
  {
   "cell_type": "markdown",
   "id": "440ccd21",
   "metadata": {},
   "source": [
    "#### 16. Subtract the mean of each row of a matrix (★★☆)"
   ]
  },
  {
   "cell_type": "code",
   "execution_count": 170,
   "id": "6d4f53f9",
   "metadata": {},
   "outputs": [
    {
     "data": {
      "text/plain": [
       "array([[ 0.4, -0.6, -0.6, -0.6, -0.6],\n",
       "       [-0.6,  1.4, -0.6, -0.6, -0.6],\n",
       "       [-0.6, -0.6,  2.4, -0.6, -0.6],\n",
       "       [-0.6, -0.6, -0.6,  3.4, -0.6],\n",
       "       [-0.6, -0.6, -0.6, -0.6,  4.4]])"
      ]
     },
     "execution_count": 170,
     "metadata": {},
     "output_type": "execute_result"
    }
   ],
   "source": [
    "matrix2 - np.mean(matrix2)"
   ]
  },
  {
   "cell_type": "markdown",
   "id": "a0748892",
   "metadata": {},
   "source": [
    "#### 17. How to get the n largest values of an array (★★★)"
   ]
  },
  {
   "cell_type": "code",
   "execution_count": 216,
   "id": "0cbb7722",
   "metadata": {},
   "outputs": [
    {
     "data": {
      "text/plain": [
       "9995"
      ]
     },
     "execution_count": 216,
     "metadata": {},
     "output_type": "execute_result"
    }
   ],
   "source": [
    "z = np.arange(10000)\n",
    "np.random.shuffle(z)\n",
    "\n",
    "n=5\n",
    "z[np.argsort(z)[len(z)-n]]"
   ]
  },
  {
   "cell_type": "markdown",
   "id": "75057265",
   "metadata": {},
   "source": [
    "#### 18. Create a random 5*3 matrix and replace items that are larger than 4 by their squares ( Example:  6 --> 36) "
   ]
  },
  {
   "cell_type": "code",
   "execution_count": null,
   "id": "25613973",
   "metadata": {},
   "outputs": [],
   "source": []
  }
 ],
 "metadata": {
  "kernelspec": {
   "display_name": "Python 3 (ipykernel)",
   "language": "python",
   "name": "python3"
  },
  "language_info": {
   "codemirror_mode": {
    "name": "ipython",
    "version": 3
   },
   "file_extension": ".py",
   "mimetype": "text/x-python",
   "name": "python",
   "nbconvert_exporter": "python",
   "pygments_lexer": "ipython3",
   "version": "3.9.7"
  }
 },
 "nbformat": 4,
 "nbformat_minor": 5
}
